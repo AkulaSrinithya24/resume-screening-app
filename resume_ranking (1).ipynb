{
 "cells": [
  {
   "cell_type": "code",
   "execution_count": 7,
   "id": "65fc6ae2-0731-4ff6-87df-b5d6e6a78d58",
   "metadata": {},
   "outputs": [
    {
     "name": "stdout",
     "output_type": "stream",
     "text": [
      "Requirement already satisfied: pandas in c:\\users\\akula\\downloads\\aicte1\\ai powered resume screening and raking system\\venv\\lib\\site-packages (2.2.3)\n",
      "Requirement already satisfied: numpy>=1.26.0 in c:\\users\\akula\\downloads\\aicte1\\ai powered resume screening and raking system\\venv\\lib\\site-packages (from pandas) (2.2.4)\n",
      "Requirement already satisfied: python-dateutil>=2.8.2 in c:\\users\\akula\\downloads\\aicte1\\ai powered resume screening and raking system\\venv\\lib\\site-packages (from pandas) (2.9.0.post0)\n",
      "Requirement already satisfied: pytz>=2020.1 in c:\\users\\akula\\downloads\\aicte1\\ai powered resume screening and raking system\\venv\\lib\\site-packages (from pandas) (2025.1)\n",
      "Requirement already satisfied: tzdata>=2022.7 in c:\\users\\akula\\downloads\\aicte1\\ai powered resume screening and raking system\\venv\\lib\\site-packages (from pandas) (2025.1)\n",
      "Requirement already satisfied: six>=1.5 in c:\\users\\akula\\downloads\\aicte1\\ai powered resume screening and raking system\\venv\\lib\\site-packages (from python-dateutil>=2.8.2->pandas) (1.17.0)\n"
     ]
    },
    {
     "name": "stderr",
     "output_type": "stream",
     "text": [
      "\n",
      "[notice] A new release of pip is available: 24.3.1 -> 25.0.1\n",
      "[notice] To update, run: python.exe -m pip install --upgrade pip\n"
     ]
    }
   ],
   "source": [
    "!pip install pandas"
   ]
  },
  {
   "cell_type": "code",
   "execution_count": 6,
   "id": "f4748fc8-84e3-4da2-bc0d-44925c99595d",
   "metadata": {},
   "outputs": [
    {
     "name": "stdout",
     "output_type": "stream",
     "text": [
      "Collecting pyPDF2\n",
      "  Downloading pypdf2-3.0.1-py3-none-any.whl.metadata (6.8 kB)\n",
      "Downloading pypdf2-3.0.1-py3-none-any.whl (232 kB)\n",
      "Installing collected packages: pyPDF2\n",
      "Successfully installed pyPDF2-3.0.1\n"
     ]
    },
    {
     "name": "stderr",
     "output_type": "stream",
     "text": [
      "\n",
      "[notice] A new release of pip is available: 24.3.1 -> 25.0.1\n",
      "[notice] To update, run: python.exe -m pip install --upgrade pip\n"
     ]
    }
   ],
   "source": [
    "!pip install pyPDF2"
   ]
  },
  {
   "cell_type": "code",
   "execution_count": 5,
   "id": "6efb7095-4136-4595-aaf1-43ff2f0f8bdc",
   "metadata": {},
   "outputs": [
    {
     "name": "stdout",
     "output_type": "stream",
     "text": [
      "Collecting scikit-learn\n",
      "  Downloading scikit_learn-1.6.1-cp313-cp313-win_amd64.whl.metadata (15 kB)\n",
      "Requirement already satisfied: numpy>=1.19.5 in c:\\users\\akula\\downloads\\aicte1\\ai powered resume screening and raking system\\venv\\lib\\site-packages (from scikit-learn) (2.2.4)\n",
      "Collecting scipy>=1.6.0 (from scikit-learn)\n",
      "  Downloading scipy-1.15.2-cp313-cp313-win_amd64.whl.metadata (60 kB)\n",
      "Collecting joblib>=1.2.0 (from scikit-learn)\n",
      "  Using cached joblib-1.4.2-py3-none-any.whl.metadata (5.4 kB)\n",
      "Collecting threadpoolctl>=3.1.0 (from scikit-learn)\n",
      "  Using cached threadpoolctl-3.6.0-py3-none-any.whl.metadata (13 kB)\n",
      "Downloading scikit_learn-1.6.1-cp313-cp313-win_amd64.whl (11.1 MB)\n",
      "   ---------------------------------------- 0.0/11.1 MB ? eta -:--:--\n",
      "   - -------------------------------------- 0.5/11.1 MB 4.3 MB/s eta 0:00:03\n",
      "   --- ------------------------------------ 1.0/11.1 MB 3.3 MB/s eta 0:00:04\n",
      "   ------ --------------------------------- 1.8/11.1 MB 3.1 MB/s eta 0:00:04\n",
      "   -------- ------------------------------- 2.4/11.1 MB 2.9 MB/s eta 0:00:03\n",
      "   ----------- ---------------------------- 3.1/11.1 MB 3.0 MB/s eta 0:00:03\n",
      "   ------------- -------------------------- 3.7/11.1 MB 3.0 MB/s eta 0:00:03\n",
      "   --------------- ------------------------ 4.2/11.1 MB 2.9 MB/s eta 0:00:03\n",
      "   ----------------- ---------------------- 4.7/11.1 MB 2.9 MB/s eta 0:00:03\n",
      "   ----------------- ---------------------- 5.0/11.1 MB 2.7 MB/s eta 0:00:03\n",
      "   ------------------ --------------------- 5.2/11.1 MB 2.5 MB/s eta 0:00:03\n",
      "   -------------------- ------------------- 5.8/11.1 MB 2.5 MB/s eta 0:00:03\n",
      "   ----------------------- ---------------- 6.6/11.1 MB 2.6 MB/s eta 0:00:02\n",
      "   ------------------------- -------------- 7.1/11.1 MB 2.6 MB/s eta 0:00:02\n",
      "   ---------------------------- ----------- 7.9/11.1 MB 2.7 MB/s eta 0:00:02\n",
      "   ------------------------------ --------- 8.4/11.1 MB 2.7 MB/s eta 0:00:01\n",
      "   -------------------------------- ------- 8.9/11.1 MB 2.7 MB/s eta 0:00:01\n",
      "   ----------------------------------- ---- 9.7/11.1 MB 2.7 MB/s eta 0:00:01\n",
      "   ----------------------------------- ---- 10.0/11.1 MB 2.7 MB/s eta 0:00:01\n",
      "   ------------------------------------- -- 10.5/11.1 MB 2.7 MB/s eta 0:00:01\n",
      "   ---------------------------------------  11.0/11.1 MB 2.7 MB/s eta 0:00:01\n",
      "   ---------------------------------------- 11.1/11.1 MB 2.6 MB/s eta 0:00:00\n",
      "Downloading joblib-1.4.2-py3-none-any.whl (301 kB)\n",
      "Downloading scipy-1.15.2-cp313-cp313-win_amd64.whl (41.0 MB)\n",
      "   ---------------------------------------- 0.0/41.0 MB ? eta -:--:--\n",
      "   ---------------------------------------- 0.3/41.0 MB ? eta -:--:--\n",
      "   - -------------------------------------- 1.0/41.0 MB 3.0 MB/s eta 0:00:14\n",
      "   - -------------------------------------- 1.8/41.0 MB 3.2 MB/s eta 0:00:13\n",
      "   -- ------------------------------------- 2.4/41.0 MB 3.2 MB/s eta 0:00:13\n",
      "   --- ------------------------------------ 3.1/41.0 MB 3.1 MB/s eta 0:00:13\n",
      "   --- ------------------------------------ 3.7/41.0 MB 3.0 MB/s eta 0:00:13\n",
      "   ---- ----------------------------------- 4.2/41.0 MB 3.0 MB/s eta 0:00:13\n",
      "   ---- ----------------------------------- 4.7/41.0 MB 2.9 MB/s eta 0:00:13\n",
      "   ----- ---------------------------------- 5.2/41.0 MB 2.9 MB/s eta 0:00:13\n",
      "   ----- ---------------------------------- 5.2/41.0 MB 2.9 MB/s eta 0:00:13\n",
      "   ----- ---------------------------------- 5.8/41.0 MB 2.5 MB/s eta 0:00:14\n",
      "   ------ --------------------------------- 6.6/41.0 MB 2.6 MB/s eta 0:00:14\n",
      "   ------ --------------------------------- 7.1/41.0 MB 2.6 MB/s eta 0:00:13\n",
      "   ------- -------------------------------- 7.6/41.0 MB 2.6 MB/s eta 0:00:13\n",
      "   ------- -------------------------------- 7.9/41.0 MB 2.6 MB/s eta 0:00:13\n",
      "   ------- -------------------------------- 7.9/41.0 MB 2.6 MB/s eta 0:00:13\n",
      "   ------- -------------------------------- 7.9/41.0 MB 2.6 MB/s eta 0:00:13\n",
      "   ------- -------------------------------- 8.1/41.0 MB 2.2 MB/s eta 0:00:16\n",
      "   -------- ------------------------------- 8.9/41.0 MB 2.2 MB/s eta 0:00:15\n",
      "   --------- ------------------------------ 9.4/41.0 MB 2.3 MB/s eta 0:00:14\n",
      "   --------- ------------------------------ 10.2/41.0 MB 2.3 MB/s eta 0:00:14\n",
      "   ---------- ----------------------------- 10.7/41.0 MB 2.3 MB/s eta 0:00:13\n",
      "   ---------- ----------------------------- 11.0/41.0 MB 2.3 MB/s eta 0:00:13\n",
      "   ----------- ---------------------------- 11.8/41.0 MB 2.4 MB/s eta 0:00:13\n",
      "   ------------ --------------------------- 12.3/41.0 MB 2.4 MB/s eta 0:00:13\n",
      "   ------------ --------------------------- 12.8/41.0 MB 2.4 MB/s eta 0:00:12\n",
      "   ------------- -------------------------- 13.4/41.0 MB 2.4 MB/s eta 0:00:12\n",
      "   ------------- -------------------------- 13.9/41.0 MB 2.4 MB/s eta 0:00:12\n",
      "   ------------- -------------------------- 13.9/41.0 MB 2.4 MB/s eta 0:00:12\n",
      "   ------------- -------------------------- 14.2/41.0 MB 2.3 MB/s eta 0:00:12\n",
      "   -------------- ------------------------- 14.7/41.0 MB 2.3 MB/s eta 0:00:12\n",
      "   --------------- ------------------------ 15.5/41.0 MB 2.3 MB/s eta 0:00:12\n",
      "   --------------- ------------------------ 16.0/41.0 MB 2.3 MB/s eta 0:00:11\n",
      "   ---------------- ----------------------- 16.5/41.0 MB 2.3 MB/s eta 0:00:11\n",
      "   ---------------- ----------------------- 17.3/41.0 MB 2.4 MB/s eta 0:00:11\n",
      "   ----------------- ---------------------- 17.8/41.0 MB 2.4 MB/s eta 0:00:10\n",
      "   ----------------- ---------------------- 18.4/41.0 MB 2.4 MB/s eta 0:00:10\n",
      "   ------------------ --------------------- 18.6/41.0 MB 2.4 MB/s eta 0:00:10\n",
      "   ------------------ --------------------- 19.4/41.0 MB 2.4 MB/s eta 0:00:10\n",
      "   ------------------- -------------------- 20.2/41.0 MB 2.4 MB/s eta 0:00:09\n",
      "   -------------------- ------------------- 20.7/41.0 MB 2.4 MB/s eta 0:00:09\n",
      "   -------------------- ------------------- 21.2/41.0 MB 2.4 MB/s eta 0:00:09\n",
      "   --------------------- ------------------ 22.0/41.0 MB 2.4 MB/s eta 0:00:08\n",
      "   --------------------- ------------------ 22.3/41.0 MB 2.4 MB/s eta 0:00:08\n",
      "   --------------------- ------------------ 22.3/41.0 MB 2.4 MB/s eta 0:00:08\n",
      "   ---------------------- ----------------- 22.8/41.0 MB 2.4 MB/s eta 0:00:08\n",
      "   ---------------------- ----------------- 23.1/41.0 MB 2.3 MB/s eta 0:00:08\n",
      "   ----------------------- ---------------- 23.6/41.0 MB 2.4 MB/s eta 0:00:08\n",
      "   ----------------------- ---------------- 23.6/41.0 MB 2.4 MB/s eta 0:00:08\n",
      "   ----------------------- ---------------- 23.6/41.0 MB 2.4 MB/s eta 0:00:08\n",
      "   ----------------------- ---------------- 23.6/41.0 MB 2.4 MB/s eta 0:00:08\n",
      "   ----------------------- ---------------- 23.6/41.0 MB 2.4 MB/s eta 0:00:08\n",
      "   ----------------------- ---------------- 23.6/41.0 MB 2.4 MB/s eta 0:00:08\n",
      "   ----------------------- ---------------- 24.4/41.0 MB 2.2 MB/s eta 0:00:08\n",
      "   ------------------------ --------------- 24.9/41.0 MB 2.2 MB/s eta 0:00:08\n",
      "   ------------------------ --------------- 25.4/41.0 MB 2.2 MB/s eta 0:00:08\n",
      "   ------------------------- -------------- 26.0/41.0 MB 2.2 MB/s eta 0:00:07\n",
      "   ------------------------- -------------- 26.2/41.0 MB 2.2 MB/s eta 0:00:07\n",
      "   -------------------------- ------------- 27.0/41.0 MB 2.2 MB/s eta 0:00:07\n",
      "   -------------------------- ------------- 27.5/41.0 MB 2.2 MB/s eta 0:00:07\n",
      "   --------------------------- ------------ 27.8/41.0 MB 2.2 MB/s eta 0:00:07\n",
      "   --------------------------- ------------ 28.3/41.0 MB 2.2 MB/s eta 0:00:06\n",
      "   --------------------------- ------------ 28.6/41.0 MB 2.2 MB/s eta 0:00:06\n",
      "   --------------------------- ------------ 28.6/41.0 MB 2.2 MB/s eta 0:00:06\n",
      "   ---------------------------- ----------- 29.1/41.0 MB 2.1 MB/s eta 0:00:06\n",
      "   ---------------------------- ----------- 29.1/41.0 MB 2.1 MB/s eta 0:00:06\n",
      "   ---------------------------- ----------- 29.1/41.0 MB 2.1 MB/s eta 0:00:06\n",
      "   ---------------------------- ----------- 29.6/41.0 MB 2.1 MB/s eta 0:00:06\n",
      "   ----------------------------- ---------- 30.1/41.0 MB 2.1 MB/s eta 0:00:06\n",
      "   ----------------------------- ---------- 30.4/41.0 MB 2.1 MB/s eta 0:00:06\n",
      "   ------------------------------ --------- 30.9/41.0 MB 2.1 MB/s eta 0:00:05\n",
      "   ------------------------------ --------- 31.5/41.0 MB 2.1 MB/s eta 0:00:05\n",
      "   ------------------------------- -------- 32.2/41.0 MB 2.1 MB/s eta 0:00:05\n",
      "   ------------------------------- -------- 32.8/41.0 MB 2.1 MB/s eta 0:00:04\n",
      "   -------------------------------- ------- 33.6/41.0 MB 2.1 MB/s eta 0:00:04\n",
      "   -------------------------------- ------- 33.6/41.0 MB 2.1 MB/s eta 0:00:04\n",
      "   --------------------------------- ------ 34.1/41.0 MB 2.1 MB/s eta 0:00:04\n",
      "   --------------------------------- ------ 34.1/41.0 MB 2.1 MB/s eta 0:00:04\n",
      "   --------------------------------- ------ 34.6/41.0 MB 2.1 MB/s eta 0:00:04\n",
      "   ---------------------------------- ----- 35.4/41.0 MB 2.1 MB/s eta 0:00:03\n",
      "   ---------------------------------- ----- 35.7/41.0 MB 2.1 MB/s eta 0:00:03\n",
      "   ----------------------------------- ---- 36.4/41.0 MB 2.1 MB/s eta 0:00:03\n",
      "   ------------------------------------ --- 37.0/41.0 MB 2.1 MB/s eta 0:00:02\n",
      "   ------------------------------------ --- 37.5/41.0 MB 2.1 MB/s eta 0:00:02\n",
      "   ------------------------------------ --- 37.7/41.0 MB 2.1 MB/s eta 0:00:02\n",
      "   ------------------------------------- -- 38.3/41.0 MB 2.1 MB/s eta 0:00:02\n",
      "   -------------------------------------- - 39.1/41.0 MB 2.1 MB/s eta 0:00:01\n",
      "   -------------------------------------- - 39.6/41.0 MB 2.2 MB/s eta 0:00:01\n",
      "   -------------------------------------- - 39.8/41.0 MB 2.2 MB/s eta 0:00:01\n",
      "   ---------------------------------------  40.1/41.0 MB 2.1 MB/s eta 0:00:01\n",
      "   ---------------------------------------  40.9/41.0 MB 2.1 MB/s eta 0:00:01\n",
      "   ---------------------------------------  40.9/41.0 MB 2.1 MB/s eta 0:00:01\n",
      "   ---------------------------------------- 41.0/41.0 MB 2.1 MB/s eta 0:00:00\n",
      "Downloading threadpoolctl-3.6.0-py3-none-any.whl (18 kB)\n",
      "Installing collected packages: threadpoolctl, scipy, joblib, scikit-learn\n",
      "Successfully installed joblib-1.4.2 scikit-learn-1.6.1 scipy-1.15.2 threadpoolctl-3.6.0\n"
     ]
    },
    {
     "name": "stderr",
     "output_type": "stream",
     "text": [
      "\n",
      "[notice] A new release of pip is available: 24.3.1 -> 25.0.1\n",
      "[notice] To update, run: python.exe -m pip install --upgrade pip\n"
     ]
    }
   ],
   "source": [
    "!pip install scikit-learn"
   ]
  },
  {
   "cell_type": "code",
   "execution_count": 4,
   "id": "3bf0d932-22c1-4cdf-aba2-5388347fb8d4",
   "metadata": {},
   "outputs": [
    {
     "name": "stdout",
     "output_type": "stream",
     "text": [
      "Collecting matplotlib\n",
      "  Downloading matplotlib-3.10.1-cp313-cp313-win_amd64.whl.metadata (11 kB)\n",
      "Collecting contourpy>=1.0.1 (from matplotlib)\n",
      "  Downloading contourpy-1.3.1-cp313-cp313-win_amd64.whl.metadata (5.4 kB)\n",
      "Collecting cycler>=0.10 (from matplotlib)\n",
      "  Using cached cycler-0.12.1-py3-none-any.whl.metadata (3.8 kB)\n",
      "Collecting fonttools>=4.22.0 (from matplotlib)\n",
      "  Downloading fonttools-4.56.0-cp313-cp313-win_amd64.whl.metadata (103 kB)\n",
      "Collecting kiwisolver>=1.3.1 (from matplotlib)\n",
      "  Downloading kiwisolver-1.4.8-cp313-cp313-win_amd64.whl.metadata (6.3 kB)\n",
      "Requirement already satisfied: numpy>=1.23 in c:\\users\\akula\\downloads\\aicte1\\ai powered resume screening and raking system\\venv\\lib\\site-packages (from matplotlib) (2.2.4)\n",
      "Requirement already satisfied: packaging>=20.0 in c:\\users\\akula\\downloads\\aicte1\\ai powered resume screening and raking system\\venv\\lib\\site-packages (from matplotlib) (24.2)\n",
      "Requirement already satisfied: pillow>=8 in c:\\users\\akula\\downloads\\aicte1\\ai powered resume screening and raking system\\venv\\lib\\site-packages (from matplotlib) (11.1.0)\n",
      "Collecting pyparsing>=2.3.1 (from matplotlib)\n",
      "  Using cached pyparsing-3.2.1-py3-none-any.whl.metadata (5.0 kB)\n",
      "Requirement already satisfied: python-dateutil>=2.7 in c:\\users\\akula\\downloads\\aicte1\\ai powered resume screening and raking system\\venv\\lib\\site-packages (from matplotlib) (2.9.0.post0)\n",
      "Requirement already satisfied: six>=1.5 in c:\\users\\akula\\downloads\\aicte1\\ai powered resume screening and raking system\\venv\\lib\\site-packages (from python-dateutil>=2.7->matplotlib) (1.17.0)\n",
      "Downloading matplotlib-3.10.1-cp313-cp313-win_amd64.whl (8.1 MB)\n",
      "   ---------------------------------------- 0.0/8.1 MB ? eta -:--:--\n",
      "   -- ------------------------------------- 0.5/8.1 MB 4.0 MB/s eta 0:00:02\n",
      "   ------ --------------------------------- 1.3/8.1 MB 3.5 MB/s eta 0:00:02\n",
      "   ------- -------------------------------- 1.6/8.1 MB 2.8 MB/s eta 0:00:03\n",
      "   ----------- ---------------------------- 2.4/8.1 MB 2.9 MB/s eta 0:00:02\n",
      "   ------------- -------------------------- 2.6/8.1 MB 3.0 MB/s eta 0:00:02\n",
      "   --------------- ------------------------ 3.1/8.1 MB 2.4 MB/s eta 0:00:03\n",
      "   ------------------- -------------------- 3.9/8.1 MB 2.6 MB/s eta 0:00:02\n",
      "   ---------------------- ----------------- 4.5/8.1 MB 2.7 MB/s eta 0:00:02\n",
      "   ------------------------ --------------- 5.0/8.1 MB 2.7 MB/s eta 0:00:02\n",
      "   -------------------------- ------------- 5.2/8.1 MB 2.7 MB/s eta 0:00:02\n",
      "   ----------------------------- ---------- 6.0/8.1 MB 2.6 MB/s eta 0:00:01\n",
      "   -------------------------------- ------- 6.6/8.1 MB 2.7 MB/s eta 0:00:01\n",
      "   --------------------------------- ------ 6.8/8.1 MB 2.6 MB/s eta 0:00:01\n",
      "   --------------------------------- ------ 6.8/8.1 MB 2.6 MB/s eta 0:00:01\n",
      "   --------------------------------- ------ 6.8/8.1 MB 2.6 MB/s eta 0:00:01\n",
      "   ----------------------------------- ---- 7.1/8.1 MB 2.2 MB/s eta 0:00:01\n",
      "   ----------------------------------- ---- 7.1/8.1 MB 2.2 MB/s eta 0:00:01\n",
      "   ------------------------------------ --- 7.3/8.1 MB 2.0 MB/s eta 0:00:01\n",
      "   ------------------------------------ --- 7.3/8.1 MB 2.0 MB/s eta 0:00:01\n",
      "   ------------------------------------ --- 7.3/8.1 MB 2.0 MB/s eta 0:00:01\n",
      "   ------------------------------------ --- 7.3/8.1 MB 2.0 MB/s eta 0:00:01\n",
      "   ------------------------------------- -- 7.6/8.1 MB 1.7 MB/s eta 0:00:01\n",
      "   ------------------------------------- -- 7.6/8.1 MB 1.7 MB/s eta 0:00:01\n",
      "   ------------------------------------- -- 7.6/8.1 MB 1.7 MB/s eta 0:00:01\n",
      "   ------------------------------------- -- 7.6/8.1 MB 1.7 MB/s eta 0:00:01\n",
      "   ------------------------------------- -- 7.6/8.1 MB 1.7 MB/s eta 0:00:01\n",
      "   ---------------------------------------  7.9/8.1 MB 1.4 MB/s eta 0:00:01\n",
      "   ---------------------------------------  7.9/8.1 MB 1.4 MB/s eta 0:00:01\n",
      "   ---------------------------------------- 8.1/8.1 MB 1.3 MB/s eta 0:00:00\n",
      "Downloading contourpy-1.3.1-cp313-cp313-win_amd64.whl (220 kB)\n",
      "Using cached cycler-0.12.1-py3-none-any.whl (8.3 kB)\n",
      "Downloading fonttools-4.56.0-cp313-cp313-win_amd64.whl (2.2 MB)\n",
      "   ---------------------------------------- 0.0/2.2 MB ? eta -:--:--\n",
      "   ---------------------------------------- 0.0/2.2 MB ? eta -:--:--\n",
      "   ---- ----------------------------------- 0.3/2.2 MB ? eta -:--:--\n",
      "   ---- ----------------------------------- 0.3/2.2 MB ? eta -:--:--\n",
      "   -------------- ------------------------- 0.8/2.2 MB 1.2 MB/s eta 0:00:02\n",
      "   -------------- ------------------------- 0.8/2.2 MB 1.2 MB/s eta 0:00:02\n",
      "   ------------------- -------------------- 1.0/2.2 MB 1.1 MB/s eta 0:00:02\n",
      "   ----------------------- ---------------- 1.3/2.2 MB 1.1 MB/s eta 0:00:01\n",
      "   --------------------------------- ------ 1.8/2.2 MB 1.3 MB/s eta 0:00:01\n",
      "   ---------------------------------------- 2.2/2.2 MB 1.3 MB/s eta 0:00:00\n",
      "Downloading kiwisolver-1.4.8-cp313-cp313-win_amd64.whl (71 kB)\n",
      "Using cached pyparsing-3.2.1-py3-none-any.whl (107 kB)\n",
      "Installing collected packages: pyparsing, kiwisolver, fonttools, cycler, contourpy, matplotlib\n",
      "Successfully installed contourpy-1.3.1 cycler-0.12.1 fonttools-4.56.0 kiwisolver-1.4.8 matplotlib-3.10.1 pyparsing-3.2.1\n"
     ]
    },
    {
     "name": "stderr",
     "output_type": "stream",
     "text": [
      "\n",
      "[notice] A new release of pip is available: 24.3.1 -> 25.0.1\n",
      "[notice] To update, run: python.exe -m pip install --upgrade pip\n"
     ]
    }
   ],
   "source": [
    "!pip install matplotlib"
   ]
  },
  {
   "cell_type": "code",
   "execution_count": 2,
   "id": "57737cd9-86b3-4ce7-8e6e-7e04804db56b",
   "metadata": {},
   "outputs": [
    {
     "name": "stdout",
     "output_type": "stream",
     "text": [
      "Requirement already satisfied: streamlit in c:\\users\\akula\\downloads\\aicte1\\ai powered resume screening and raking system\\venv\\lib\\site-packages (1.43.2)\n",
      "Requirement already satisfied: altair<6,>=4.0 in c:\\users\\akula\\downloads\\aicte1\\ai powered resume screening and raking system\\venv\\lib\\site-packages (from streamlit) (5.5.0)\n",
      "Requirement already satisfied: blinker<2,>=1.0.0 in c:\\users\\akula\\downloads\\aicte1\\ai powered resume screening and raking system\\venv\\lib\\site-packages (from streamlit) (1.9.0)\n",
      "Requirement already satisfied: cachetools<6,>=4.0 in c:\\users\\akula\\downloads\\aicte1\\ai powered resume screening and raking system\\venv\\lib\\site-packages (from streamlit) (5.5.2)\n",
      "Requirement already satisfied: click<9,>=7.0 in c:\\users\\akula\\downloads\\aicte1\\ai powered resume screening and raking system\\venv\\lib\\site-packages (from streamlit) (8.1.8)\n",
      "Requirement already satisfied: numpy<3,>=1.23 in c:\\users\\akula\\downloads\\aicte1\\ai powered resume screening and raking system\\venv\\lib\\site-packages (from streamlit) (2.2.4)\n",
      "Requirement already satisfied: packaging<25,>=20 in c:\\users\\akula\\downloads\\aicte1\\ai powered resume screening and raking system\\venv\\lib\\site-packages (from streamlit) (24.2)\n",
      "Requirement already satisfied: pandas<3,>=1.4.0 in c:\\users\\akula\\downloads\\aicte1\\ai powered resume screening and raking system\\venv\\lib\\site-packages (from streamlit) (2.2.3)\n",
      "Requirement already satisfied: pillow<12,>=7.1.0 in c:\\users\\akula\\downloads\\aicte1\\ai powered resume screening and raking system\\venv\\lib\\site-packages (from streamlit) (11.1.0)\n",
      "Requirement already satisfied: protobuf<6,>=3.20 in c:\\users\\akula\\downloads\\aicte1\\ai powered resume screening and raking system\\venv\\lib\\site-packages (from streamlit) (5.29.4)\n",
      "Requirement already satisfied: pyarrow>=7.0 in c:\\users\\akula\\downloads\\aicte1\\ai powered resume screening and raking system\\venv\\lib\\site-packages (from streamlit) (19.0.1)\n",
      "Requirement already satisfied: requests<3,>=2.27 in c:\\users\\akula\\downloads\\aicte1\\ai powered resume screening and raking system\\venv\\lib\\site-packages (from streamlit) (2.32.3)\n",
      "Requirement already satisfied: tenacity<10,>=8.1.0 in c:\\users\\akula\\downloads\\aicte1\\ai powered resume screening and raking system\\venv\\lib\\site-packages (from streamlit) (9.0.0)\n",
      "Requirement already satisfied: toml<2,>=0.10.1 in c:\\users\\akula\\downloads\\aicte1\\ai powered resume screening and raking system\\venv\\lib\\site-packages (from streamlit) (0.10.2)\n",
      "Requirement already satisfied: typing-extensions<5,>=4.4.0 in c:\\users\\akula\\downloads\\aicte1\\ai powered resume screening and raking system\\venv\\lib\\site-packages (from streamlit) (4.12.2)\n",
      "Requirement already satisfied: watchdog<7,>=2.1.5 in c:\\users\\akula\\downloads\\aicte1\\ai powered resume screening and raking system\\venv\\lib\\site-packages (from streamlit) (6.0.0)\n",
      "Requirement already satisfied: gitpython!=3.1.19,<4,>=3.0.7 in c:\\users\\akula\\downloads\\aicte1\\ai powered resume screening and raking system\\venv\\lib\\site-packages (from streamlit) (3.1.44)\n",
      "Requirement already satisfied: pydeck<1,>=0.8.0b4 in c:\\users\\akula\\downloads\\aicte1\\ai powered resume screening and raking system\\venv\\lib\\site-packages (from streamlit) (0.9.1)\n",
      "Requirement already satisfied: tornado<7,>=6.0.3 in c:\\users\\akula\\downloads\\aicte1\\ai powered resume screening and raking system\\venv\\lib\\site-packages (from streamlit) (6.4.2)\n",
      "Requirement already satisfied: jinja2 in c:\\users\\akula\\downloads\\aicte1\\ai powered resume screening and raking system\\venv\\lib\\site-packages (from altair<6,>=4.0->streamlit) (3.1.6)\n",
      "Requirement already satisfied: jsonschema>=3.0 in c:\\users\\akula\\downloads\\aicte1\\ai powered resume screening and raking system\\venv\\lib\\site-packages (from altair<6,>=4.0->streamlit) (4.23.0)\n",
      "Requirement already satisfied: narwhals>=1.14.2 in c:\\users\\akula\\downloads\\aicte1\\ai powered resume screening and raking system\\venv\\lib\\site-packages (from altair<6,>=4.0->streamlit) (1.31.0)\n",
      "Requirement already satisfied: colorama in c:\\users\\akula\\downloads\\aicte1\\ai powered resume screening and raking system\\venv\\lib\\site-packages (from click<9,>=7.0->streamlit) (0.4.6)\n",
      "Requirement already satisfied: gitdb<5,>=4.0.1 in c:\\users\\akula\\downloads\\aicte1\\ai powered resume screening and raking system\\venv\\lib\\site-packages (from gitpython!=3.1.19,<4,>=3.0.7->streamlit) (4.0.12)\n",
      "Requirement already satisfied: python-dateutil>=2.8.2 in c:\\users\\akula\\downloads\\aicte1\\ai powered resume screening and raking system\\venv\\lib\\site-packages (from pandas<3,>=1.4.0->streamlit) (2.9.0.post0)\n",
      "Requirement already satisfied: pytz>=2020.1 in c:\\users\\akula\\downloads\\aicte1\\ai powered resume screening and raking system\\venv\\lib\\site-packages (from pandas<3,>=1.4.0->streamlit) (2025.1)\n",
      "Requirement already satisfied: tzdata>=2022.7 in c:\\users\\akula\\downloads\\aicte1\\ai powered resume screening and raking system\\venv\\lib\\site-packages (from pandas<3,>=1.4.0->streamlit) (2025.1)\n",
      "Requirement already satisfied: charset-normalizer<4,>=2 in c:\\users\\akula\\downloads\\aicte1\\ai powered resume screening and raking system\\venv\\lib\\site-packages (from requests<3,>=2.27->streamlit) (3.4.1)\n",
      "Requirement already satisfied: idna<4,>=2.5 in c:\\users\\akula\\downloads\\aicte1\\ai powered resume screening and raking system\\venv\\lib\\site-packages (from requests<3,>=2.27->streamlit) (3.10)\n",
      "Requirement already satisfied: urllib3<3,>=1.21.1 in c:\\users\\akula\\downloads\\aicte1\\ai powered resume screening and raking system\\venv\\lib\\site-packages (from requests<3,>=2.27->streamlit) (2.3.0)\n",
      "Requirement already satisfied: certifi>=2017.4.17 in c:\\users\\akula\\downloads\\aicte1\\ai powered resume screening and raking system\\venv\\lib\\site-packages (from requests<3,>=2.27->streamlit) (2025.1.31)\n",
      "Requirement already satisfied: smmap<6,>=3.0.1 in c:\\users\\akula\\downloads\\aicte1\\ai powered resume screening and raking system\\venv\\lib\\site-packages (from gitdb<5,>=4.0.1->gitpython!=3.1.19,<4,>=3.0.7->streamlit) (5.0.2)\n",
      "Requirement already satisfied: MarkupSafe>=2.0 in c:\\users\\akula\\downloads\\aicte1\\ai powered resume screening and raking system\\venv\\lib\\site-packages (from jinja2->altair<6,>=4.0->streamlit) (3.0.2)\n",
      "Requirement already satisfied: attrs>=22.2.0 in c:\\users\\akula\\downloads\\aicte1\\ai powered resume screening and raking system\\venv\\lib\\site-packages (from jsonschema>=3.0->altair<6,>=4.0->streamlit) (25.3.0)\n",
      "Requirement already satisfied: jsonschema-specifications>=2023.03.6 in c:\\users\\akula\\downloads\\aicte1\\ai powered resume screening and raking system\\venv\\lib\\site-packages (from jsonschema>=3.0->altair<6,>=4.0->streamlit) (2024.10.1)\n",
      "Requirement already satisfied: referencing>=0.28.4 in c:\\users\\akula\\downloads\\aicte1\\ai powered resume screening and raking system\\venv\\lib\\site-packages (from jsonschema>=3.0->altair<6,>=4.0->streamlit) (0.36.2)\n",
      "Requirement already satisfied: rpds-py>=0.7.1 in c:\\users\\akula\\downloads\\aicte1\\ai powered resume screening and raking system\\venv\\lib\\site-packages (from jsonschema>=3.0->altair<6,>=4.0->streamlit) (0.23.1)\n",
      "Requirement already satisfied: six>=1.5 in c:\\users\\akula\\downloads\\aicte1\\ai powered resume screening and raking system\\venv\\lib\\site-packages (from python-dateutil>=2.8.2->pandas<3,>=1.4.0->streamlit) (1.17.0)\n"
     ]
    },
    {
     "name": "stderr",
     "output_type": "stream",
     "text": [
      "\n",
      "[notice] A new release of pip is available: 24.3.1 -> 25.0.1\n",
      "[notice] To update, run: python.exe -m pip install --upgrade pip\n"
     ]
    }
   ],
   "source": [
    "!pip install streamlit"
   ]
  },
  {
   "cell_type": "code",
   "execution_count": 8,
   "id": "9f0dfeef-9144-4fa5-aa3f-65fa3f0e3d7b",
   "metadata": {},
   "outputs": [],
   "source": [
    "import streamlit as st\n",
    "from PyPDF2 import PdfReader\n",
    "import pandas as pd\n",
    "from sklearn.feature_extraction.text import TfidfVectorizer\n",
    "from sklearn.metrics.pairwise import cosine_similarity"
   ]
  },
  {
   "cell_type": "code",
   "execution_count": 2,
   "id": "adeaac88-5c56-4971-bb3f-59c4bbb60c4a",
   "metadata": {},
   "outputs": [],
   "source": [
    "# Function to extract text from PDF\n",
    "def extract_text_from_pdf(file):\n",
    "    pdf = PdfReader(file)\n",
    "    text = \"\"\n",
    "    for page in pdf.pages:\n",
    "        text += page.extract_text()\n",
    "    return text"
   ]
  },
  {
   "cell_type": "code",
   "execution_count": null,
   "id": "5346adba-c7be-43e0-8962-c8ea95db7c18",
   "metadata": {},
   "outputs": [],
   "source": [
    "# Function to rank resumes based on job description\n",
    "def rank_resumes(job_description, resumes):\n",
    "    # Combine job description with resumes\n",
    "    documents = [job_description] + resumes\n",
    "    vectorizer = TfidfVectorizer().fit_transform(documents)\n",
    "    vectors vectorizer.toarray()\n",
    "\n",
    "    # Calculate cosine similarity\n",
    "    job_description_vector = vectors[0]\n",
    "    resume_vectors = vectors [1:]\n",
    "    cosine_similarities = cosine_similarity ([job_description_vector], resume_vectors).flatten()\n",
    "    \n",
    "    return cosine_similarities"
   ]
  },
  {
   "cell_type": "code",
   "execution_count": null,
   "id": "fe4f6753-d769-43c4-891a-4874d57ebdf6",
   "metadata": {},
   "outputs": [],
   "source": [
    "# Streamlit app\n",
    "st.title(\"AI Resume Screening & Candidate Ranking System\")\n",
    "# Job description input\n",
    "st.header(\"Job Description\")\n",
    "job_description= st.text_area (\"Enter the job description\")"
   ]
  },
  {
   "cell_type": "code",
   "execution_count": null,
   "id": "8b4202d6-4e09-4119-b1fd-9adb991b4ab5",
   "metadata": {},
   "outputs": [],
   "source": [
    "# File uploader\n",
    "st.header(\"Upload Resumes\")\n",
    "uploaded_files = st.file_uploader(\"Upload PDF files\", type=[\"pdf\"], accept_multiple_files=True)"
   ]
  },
  {
   "cell_type": "code",
   "execution_count": null,
   "id": "8e218fd3-19a8-4514-98bb-e5d6672df465",
   "metadata": {},
   "outputs": [],
   "source": [
    "if uploaded_files and job_description:\n",
    "    st.header(\"Ranking Resumes\")\n",
    "    \n",
    "    resumes = []\n",
    "    for file in uploaded_files:\n",
    "        text = extract_text_from_pdf(file)\n",
    "        resumes.append(text)\n",
    "\n",
    "    # Rank resumes\n",
    "    scores = rank_resumes(job_description, resumes)\n",
    "\n",
    "    # Display scores\n",
    "    results = pd.DataFrame({\"Resume\": [file.name for file in uploaded_files], \"Score\": score })\n",
    "    results = results.sort_values(by=\"Score\", ascending=False)\n",
    "    \n",
    "    st.write(results)"
   ]
  },
  {
   "cell_type": "code",
   "execution_count": null,
   "id": "36f4c751-0615-4257-9dd4-36253f1e31e9",
   "metadata": {},
   "outputs": [],
   "source": []
  }
 ],
 "metadata": {
  "kernelspec": {
   "display_name": "Python 3 (ipykernel)",
   "language": "python",
   "name": "python3"
  },
  "language_info": {
   "codemirror_mode": {
    "name": "ipython",
    "version": 3
   },
   "file_extension": ".py",
   "mimetype": "text/x-python",
   "name": "python",
   "nbconvert_exporter": "python",
   "pygments_lexer": "ipython3",
   "version": "3.13.2"
  }
 },
 "nbformat": 4,
 "nbformat_minor": 5
}
